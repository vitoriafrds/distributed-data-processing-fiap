{
 "cells": [
  {
   "cell_type": "code",
   "execution_count": 90,
   "metadata": {},
   "outputs": [],
   "source": [
    "from pyspark.sql import SparkSession\n",
    "from pyspark.sql import functions as F\n",
    "from pyspark.sql.types import IntegerType"
   ]
  },
  {
   "cell_type": "code",
   "execution_count": 2,
   "metadata": {},
   "outputs": [],
   "source": [
    "spark = SparkSession.builder.getOrCreate()"
   ]
  },
  {
   "cell_type": "code",
   "execution_count": 4,
   "metadata": {},
   "outputs": [],
   "source": [
    "dataset_path = \"/datalake/raw\""
   ]
  },
  {
   "cell_type": "code",
   "execution_count": 9,
   "metadata": {},
   "outputs": [],
   "source": [
    "df = spark.read.option(\"header\", True).csv(f'{dataset_path}/dados_partidas_internacionais.csv')"
   ]
  },
  {
   "cell_type": "code",
   "execution_count": 136,
   "metadata": {},
   "outputs": [],
   "source": [
    "partidas = df.withColumnRenamed(\"date\", \"data\")\\\n",
    "                   .withColumnRenamed(\"home_team\", \"mandante\")\\\n",
    "                   .withColumnRenamed(\"away_team\", \"visitante\")\\\n",
    "                   .withColumnRenamed(\"home_score\", \"placar_mandante\")\\\n",
    "                   .withColumnRenamed(\"away_score\", \"placar_visitante\")\\\n",
    "                   .withColumnRenamed(\"tournament\", \"torneio\")\\\n",
    "                   .withColumnRenamed(\"city\", \"cidade\")\\\n",
    "                   .withColumnRenamed(\"country\", \"pais\")\\\n",
    "                   .drop(\"neutral\")\\\n",
    "                   .persist()"
   ]
  },
  {
   "cell_type": "code",
   "execution_count": 24,
   "metadata": {},
   "outputs": [
    {
     "name": "stdout",
     "output_type": "stream",
     "text": [
      "TOTAL DE REGISTROS ENCONTRADOS NO DATAFRAME: 40839\n"
     ]
    }
   ],
   "source": [
    "#Quantos registros existem na base?\n",
    "total_registros = partidas.count()\n",
    "print(f'TOTAL DE REGISTROS ENCONTRADOS NO DATAFRAME: {total_registros}')"
   ]
  },
  {
   "cell_type": "code",
   "execution_count": 26,
   "metadata": {},
   "outputs": [
    {
     "name": "stdout",
     "output_type": "stream",
     "text": [
      "TOTAL DE REGISTROS ENCONTRADOS NO DATAFRAME: 309\n"
     ]
    }
   ],
   "source": [
    "#Quantas equipes únicas mandantes existem na base?\n",
    "total_mandantes = partidas.select(\"mandante\").distinct().count()\n",
    "print(f'TOTAL DE REGISTROS ENCONTRADOS NO DATAFRAME: {total_mandantes}')"
   ]
  },
  {
   "cell_type": "code",
   "execution_count": 42,
   "metadata": {},
   "outputs": [
    {
     "name": "stdout",
     "output_type": "stream",
     "text": [
      "TOTAL DE VITORIAS DOS TIMES MANDANTES: 19856\n"
     ]
    }
   ],
   "source": [
    "#Quantas vezes as equipes mandantes saíram vitoriosas?\n",
    "vitorias_mandante = partidas.filter(partidas.placar_mandante > partidas.placar_visitante)\\\n",
    "                            .count()\n",
    "print(f'TOTAL DE VITORIAS DOS TIMES MANDANTES: {vitorias_mandante}')"
   ]
  },
  {
   "cell_type": "code",
   "execution_count": 43,
   "metadata": {},
   "outputs": [
    {
     "name": "stdout",
     "output_type": "stream",
     "text": [
      "TOTAL DE VITORIAS DOS TIMES VISITANTES: 11552\n"
     ]
    }
   ],
   "source": [
    "#Quantas vezes as equipes visitantes saíram vitoriosas?\n",
    "vitorias_visitantes = partidas.filter(partidas.placar_visitante > partidas.placar_mandante)\\\n",
    "                              .count()\n",
    "print(f'TOTAL DE VITORIAS DOS TIMES VISITANTES: {vitorias_visitantes}')"
   ]
  },
  {
   "cell_type": "code",
   "execution_count": 39,
   "metadata": {},
   "outputs": [
    {
     "name": "stdout",
     "output_type": "stream",
     "text": [
      "TOTAL DE PARTIDAS COM EMPATES: 9431\n"
     ]
    }
   ],
   "source": [
    "#Quantas partidas resultaram em empate?\n",
    "empates = partidas\\\n",
    "            .filter(partidas.placar_mandante == partidas.placar_visitante)\\\n",
    "            .count()\n",
    "print(f'TOTAL DE PARTIDAS COM EMPATES: {empates}')"
   ]
  },
  {
   "cell_type": "code",
   "execution_count": 51,
   "metadata": {},
   "outputs": [
    {
     "name": "stdout",
     "output_type": "stream",
     "text": [
      "+-------------------+-----+\n",
      "|               pais|count|\n",
      "+-------------------+-----+\n",
      "|               Chad|   40|\n",
      "|             Russia|  209|\n",
      "|           Paraguay|  218|\n",
      "|           Anguilla|   12|\n",
      "|              Yemen|   58|\n",
      "|U.S. Virgin Islands|   15|\n",
      "|     Chinese Taipei|   47|\n",
      "|            Senegal|  202|\n",
      "|             Sweden|  637|\n",
      "|             Guyana|   98|\n",
      "|        Philippines|   83|\n",
      "|              Burma|   79|\n",
      "|             Jersey|   68|\n",
      "|            Eritrea|   16|\n",
      "| Netherlands Guyana|   29|\n",
      "|           Djibouti|   21|\n",
      "|              Tonga|   12|\n",
      "|          Singapore|  368|\n",
      "|           Malaysia|  644|\n",
      "|               Fiji|  139|\n",
      "+-------------------+-----+\n",
      "only showing top 20 rows\n",
      "\n"
     ]
    }
   ],
   "source": [
    "#Quantas partidas foram realizadas em cada país?\n",
    "partidas.groupBy(\"pais\").count().show()"
   ]
  },
  {
   "cell_type": "code",
   "execution_count": 112,
   "metadata": {},
   "outputs": [
    {
     "name": "stdout",
     "output_type": "stream",
     "text": [
      "EXIBINDO PAIS QUE MAIS TEVE PARTIDAS\n",
      "Row(pais='United States', total_partidas=1144)\n"
     ]
    }
   ],
   "source": [
    "#Qual país teve mais partidas\n",
    "partidas_by_pais = partidas.groupBy(\"pais\")\\\n",
    "                           .agg(F.count(F.col(\"data\")).alias(\"total_partidas\"))\n",
    "\n",
    "print(\"EXIBINDO PAIS QUE MAIS TEVE PARTIDAS\")\n",
    "row = partidas_by_pais.sort(partidas_by_pais.total_partidas.desc()).first()\n",
    "print(row)"
   ]
  },
  {
   "cell_type": "code",
   "execution_count": 135,
   "metadata": {},
   "outputs": [
    {
     "data": {
      "text/plain": [
       "Row(data='2001-04-11', mandante='Australia', visitante='American Samoa', placar_mandante='31', placar_visitante='0', torneio='FIFA World Cup qualification', cidade='Coffs Harbour', pais='Australia', quantidade_gols_partida=31)"
      ]
     },
     "execution_count": 135,
     "metadata": {},
     "output_type": "execute_result"
    }
   ],
   "source": [
    "#Qual a partida com maior número de gols? / #Qual a maior goleada?\n",
    "partidas = partidas.withColumn(\"quantidade_gols_partida\", F.lit(F.col(\"placar_mandante\") + F.col(\"placar_visitante\"))\\\n",
    "                    .cast(IntegerType()))\n",
    "\n",
    "partidas.sort(partidas.quantidade_gols_partida.desc()).first()"
   ]
  },
  {
   "cell_type": "code",
   "execution_count": 79,
   "metadata": {},
   "outputs": [
    {
     "name": "stdout",
     "output_type": "stream",
     "text": [
      "TOTAL DE PARTIDAS NO BRASIL: 529\n"
     ]
    }
   ],
   "source": [
    "#Quantos jogos ocorreram no Brasil?\n",
    "qtd_partidas_br = partidas.filter(partidas.pais == \"Brazil\").count()\n",
    "print(f'TOTAL DE PARTIDAS NO BRASIL: {qtd_partidas_br}')"
   ]
  },
  {
   "cell_type": "code",
   "execution_count": null,
   "metadata": {},
   "outputs": [],
   "source": []
  },
  {
   "cell_type": "code",
   "execution_count": null,
   "metadata": {},
   "outputs": [],
   "source": []
  },
  {
   "cell_type": "code",
   "execution_count": null,
   "metadata": {},
   "outputs": [],
   "source": []
  },
  {
   "cell_type": "code",
   "execution_count": null,
   "metadata": {},
   "outputs": [],
   "source": []
  },
  {
   "cell_type": "code",
   "execution_count": null,
   "metadata": {},
   "outputs": [],
   "source": []
  },
  {
   "cell_type": "code",
   "execution_count": null,
   "metadata": {},
   "outputs": [],
   "source": []
  },
  {
   "cell_type": "code",
   "execution_count": null,
   "metadata": {},
   "outputs": [],
   "source": []
  },
  {
   "cell_type": "code",
   "execution_count": null,
   "metadata": {},
   "outputs": [],
   "source": []
  },
  {
   "cell_type": "code",
   "execution_count": null,
   "metadata": {},
   "outputs": [],
   "source": []
  },
  {
   "cell_type": "code",
   "execution_count": null,
   "metadata": {},
   "outputs": [],
   "source": []
  },
  {
   "cell_type": "code",
   "execution_count": null,
   "metadata": {},
   "outputs": [],
   "source": []
  },
  {
   "cell_type": "code",
   "execution_count": null,
   "metadata": {},
   "outputs": [],
   "source": []
  },
  {
   "cell_type": "code",
   "execution_count": null,
   "metadata": {},
   "outputs": [],
   "source": []
  },
  {
   "cell_type": "code",
   "execution_count": null,
   "metadata": {},
   "outputs": [],
   "source": []
  },
  {
   "cell_type": "code",
   "execution_count": null,
   "metadata": {},
   "outputs": [],
   "source": []
  },
  {
   "cell_type": "code",
   "execution_count": null,
   "metadata": {},
   "outputs": [],
   "source": []
  },
  {
   "cell_type": "code",
   "execution_count": null,
   "metadata": {},
   "outputs": [],
   "source": []
  },
  {
   "cell_type": "code",
   "execution_count": null,
   "metadata": {},
   "outputs": [],
   "source": []
  },
  {
   "cell_type": "code",
   "execution_count": null,
   "metadata": {},
   "outputs": [],
   "source": []
  },
  {
   "cell_type": "code",
   "execution_count": null,
   "metadata": {},
   "outputs": [],
   "source": []
  },
  {
   "cell_type": "code",
   "execution_count": null,
   "metadata": {},
   "outputs": [],
   "source": []
  },
  {
   "cell_type": "code",
   "execution_count": null,
   "metadata": {},
   "outputs": [],
   "source": []
  },
  {
   "cell_type": "code",
   "execution_count": null,
   "metadata": {},
   "outputs": [],
   "source": []
  },
  {
   "cell_type": "code",
   "execution_count": null,
   "metadata": {},
   "outputs": [],
   "source": []
  },
  {
   "cell_type": "code",
   "execution_count": null,
   "metadata": {},
   "outputs": [],
   "source": []
  },
  {
   "cell_type": "code",
   "execution_count": null,
   "metadata": {},
   "outputs": [],
   "source": []
  },
  {
   "cell_type": "code",
   "execution_count": null,
   "metadata": {},
   "outputs": [],
   "source": []
  },
  {
   "cell_type": "code",
   "execution_count": null,
   "metadata": {},
   "outputs": [],
   "source": []
  },
  {
   "cell_type": "code",
   "execution_count": null,
   "metadata": {},
   "outputs": [],
   "source": []
  },
  {
   "cell_type": "code",
   "execution_count": null,
   "metadata": {},
   "outputs": [],
   "source": []
  },
  {
   "cell_type": "code",
   "execution_count": null,
   "metadata": {},
   "outputs": [],
   "source": []
  },
  {
   "cell_type": "code",
   "execution_count": null,
   "metadata": {},
   "outputs": [],
   "source": []
  },
  {
   "cell_type": "code",
   "execution_count": null,
   "metadata": {},
   "outputs": [],
   "source": []
  },
  {
   "cell_type": "code",
   "execution_count": null,
   "metadata": {},
   "outputs": [],
   "source": []
  },
  {
   "cell_type": "code",
   "execution_count": null,
   "metadata": {},
   "outputs": [],
   "source": []
  },
  {
   "cell_type": "code",
   "execution_count": null,
   "metadata": {},
   "outputs": [],
   "source": []
  },
  {
   "cell_type": "code",
   "execution_count": null,
   "metadata": {},
   "outputs": [],
   "source": []
  },
  {
   "cell_type": "code",
   "execution_count": null,
   "metadata": {},
   "outputs": [],
   "source": []
  },
  {
   "cell_type": "code",
   "execution_count": null,
   "metadata": {},
   "outputs": [],
   "source": []
  },
  {
   "cell_type": "code",
   "execution_count": null,
   "metadata": {},
   "outputs": [],
   "source": []
  },
  {
   "cell_type": "code",
   "execution_count": null,
   "metadata": {},
   "outputs": [],
   "source": []
  },
  {
   "cell_type": "code",
   "execution_count": null,
   "metadata": {},
   "outputs": [],
   "source": []
  },
  {
   "cell_type": "code",
   "execution_count": null,
   "metadata": {},
   "outputs": [],
   "source": []
  },
  {
   "cell_type": "code",
   "execution_count": null,
   "metadata": {},
   "outputs": [],
   "source": []
  },
  {
   "cell_type": "code",
   "execution_count": null,
   "metadata": {},
   "outputs": [],
   "source": []
  },
  {
   "cell_type": "code",
   "execution_count": null,
   "metadata": {},
   "outputs": [],
   "source": []
  },
  {
   "cell_type": "code",
   "execution_count": null,
   "metadata": {},
   "outputs": [],
   "source": []
  }
 ],
 "metadata": {
  "kernelspec": {
   "display_name": "PySpark",
   "language": "python",
   "name": "pyspark"
  },
  "language_info": {
   "codemirror_mode": {
    "name": "ipython",
    "version": 3
   },
   "file_extension": ".py",
   "mimetype": "text/x-python",
   "name": "python",
   "nbconvert_exporter": "python",
   "pygments_lexer": "ipython3",
   "version": "3.6.10"
  }
 },
 "nbformat": 4,
 "nbformat_minor": 2
}
